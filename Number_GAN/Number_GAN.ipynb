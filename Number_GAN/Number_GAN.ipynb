{
 "cells": [
  {
   "cell_type": "code",
   "execution_count": 3,
   "id": "2b8f7918-d32b-4f8e-9f21-d3f11dd4e0a6",
   "metadata": {},
   "outputs": [],
   "source": [
    "# !conda install pytorch torchvision torchaudio pytorch-cuda=11.6 -c pytorch -c nvidia"
   ]
  },
  {
   "cell_type": "code",
   "execution_count": 19,
   "id": "6b63a04e-a84a-42c5-943d-cb720857d9d4",
   "metadata": {},
   "outputs": [],
   "source": [
    "import torch\n",
    "import torch.nn as nn\n",
    "import torch.optim as optim\n",
    "import torchvision\n",
    "import torchvision.datasets as datasets\n",
    "from torch.utils.data import DataLoader\n",
    "import torchvision.transforms as transforms\n",
    "from torch.utils.tensorboard import SummaryWriter"
   ]
  },
  {
   "cell_type": "code",
   "execution_count": 29,
   "id": "0c0043a6-7c33-4dfa-9a9f-f3d5ed5b13a7",
   "metadata": {},
   "outputs": [],
   "source": [
    "class Discriminator(nn.Module):\n",
    "    \n",
    "    def __init__(self, img_dim):\n",
    "        super().__init__()\n",
    "        self.disc = nn.Sequential(\n",
    "            nn.Linear(img_dim, 128),\n",
    "            nn.LeakyReLU(0.1),\n",
    "            nn.Linear(128, 1),\n",
    "            nn.Sigmoid()\n",
    "        )\n",
    "        \n",
    "    def forward(self, x):\n",
    "        return self.disc(x)"
   ]
  },
  {
   "cell_type": "code",
   "execution_count": 30,
   "id": "bf913419-877d-4480-8da3-15d0fc768d5a",
   "metadata": {},
   "outputs": [],
   "source": [
    "class Generator(nn.Module):\n",
    "    \n",
    "    def __init__(self, z_dim, img_dim):\n",
    "        super().__init__()\n",
    "        self.gen = nn.Sequential(\n",
    "            nn.Linear(z_dim, 256),\n",
    "            nn.LeakyReLU(0.1),\n",
    "            nn.Linear(256, img_dim),\n",
    "            nn.Tanh()\n",
    "        )\n",
    "    \n",
    "    def forward(self, x):\n",
    "        return self.gen(x)"
   ]
  },
  {
   "cell_type": "code",
   "execution_count": 31,
   "id": "717d11cb-6fa2-4ded-a8ce-6fd5bde06b1e",
   "metadata": {},
   "outputs": [],
   "source": [
    "device = \"cuda\" if torch.cuda.is_available() else \"cpu\""
   ]
  },
  {
   "cell_type": "code",
   "execution_count": 32,
   "id": "4b8f93c1-c377-4a3d-8318-cea30e99b808",
   "metadata": {},
   "outputs": [],
   "source": [
    "lr = 3e-4"
   ]
  },
  {
   "cell_type": "code",
   "execution_count": 39,
   "id": "786cb1f8-2409-44a8-aee5-5ec1fbde0c1f",
   "metadata": {},
   "outputs": [],
   "source": [
    "z_dim = 64 # 128, 512"
   ]
  },
  {
   "cell_type": "code",
   "execution_count": 40,
   "id": "258b44e9-4645-4430-91dc-01e31bb05cac",
   "metadata": {},
   "outputs": [],
   "source": [
    "image_dim = 28 * 28 * 1"
   ]
  },
  {
   "cell_type": "code",
   "execution_count": 41,
   "id": "dafa55ab-089f-48e1-b934-d562f8e353cb",
   "metadata": {},
   "outputs": [],
   "source": [
    "batch_size = 32"
   ]
  },
  {
   "cell_type": "code",
   "execution_count": 59,
   "id": "3129b50d-41b1-40e1-8aa2-5d4e8b6a1c40",
   "metadata": {},
   "outputs": [],
   "source": [
    "num_epochs = 10"
   ]
  },
  {
   "cell_type": "code",
   "execution_count": 60,
   "id": "6ba35e35-07c1-402c-8900-84509b8f9f9e",
   "metadata": {},
   "outputs": [],
   "source": [
    "disc = Discriminator(image_dim).to(device)"
   ]
  },
  {
   "cell_type": "code",
   "execution_count": 61,
   "id": "c7a55824-5fda-4670-92f7-9bb27611fac5",
   "metadata": {},
   "outputs": [],
   "source": [
    "gen = Generator(z_dim, image_dim).to(device)"
   ]
  },
  {
   "cell_type": "code",
   "execution_count": 62,
   "id": "864702bc-f763-4881-b04f-93c257bb6c72",
   "metadata": {},
   "outputs": [],
   "source": [
    "fixed_noise = torch.randn((batch_size, z_dim)).to(device)"
   ]
  },
  {
   "cell_type": "code",
   "execution_count": 63,
   "id": "2b98beaa-6582-4899-a0c1-f62b6e5f4be8",
   "metadata": {},
   "outputs": [],
   "source": [
    "# Mean and SD is 0.1307, 0.3081\n",
    "import torchvision.transforms as transforms\n",
    "transform = transforms.Compose(\n",
    "    [transforms.ToTensor(), transforms.Normalize((0.1307,), (0.3081,))]\n",
    ")"
   ]
  },
  {
   "cell_type": "code",
   "execution_count": 64,
   "id": "4945bbb6-bdb0-4118-a487-101481068215",
   "metadata": {},
   "outputs": [],
   "source": [
    "dataset = datasets.MNIST(root='dataset/', transform=transform, download=True)"
   ]
  },
  {
   "cell_type": "code",
   "execution_count": 65,
   "id": "8a41e586-2da6-4d69-a897-8c6e2c479b8d",
   "metadata": {},
   "outputs": [],
   "source": [
    "loader = DataLoader(dataset, batch_size=batch_size, shuffle=True)"
   ]
  },
  {
   "cell_type": "code",
   "execution_count": 66,
   "id": "10229f55-3c46-475c-b788-12868bde8a9d",
   "metadata": {},
   "outputs": [],
   "source": [
    "opt_disc = optim.Adam(disc.parameters(), lr=lr)\n",
    "opt_gen = optim.Adam(gen.parameters(), lr=lr)"
   ]
  },
  {
   "cell_type": "code",
   "execution_count": 67,
   "id": "fc79b9a0-0fcd-4549-8d2d-0eff6442897b",
   "metadata": {},
   "outputs": [],
   "source": [
    "criterion = nn.BCELoss()"
   ]
  },
  {
   "cell_type": "code",
   "execution_count": 68,
   "id": "385b1e22-656b-4ad1-b0ac-ac784702d672",
   "metadata": {},
   "outputs": [],
   "source": [
    "writer_fake = SummaryWriter(f\"runs/GAN_MNIST/fake\")\n",
    "writer_real = SummaryWriter(f\"runs/GAN_MNIST/real\")"
   ]
  },
  {
   "cell_type": "code",
   "execution_count": 69,
   "id": "5fc4f71a-baac-466a-a832-776ea7a077f8",
   "metadata": {},
   "outputs": [],
   "source": [
    "step = 0"
   ]
  },
  {
   "cell_type": "code",
   "execution_count": 70,
   "id": "92b89118-5b82-47e9-9de5-a7145347e573",
   "metadata": {},
   "outputs": [
    {
     "name": "stdout",
     "output_type": "stream",
     "text": [
      "Epoch [0/10] Batch 0/1875                       Loss D: 0.6499, loss G: 0.7425\n",
      "Epoch [1/10] Batch 0/1875                       Loss D: 0.2653, loss G: 1.7771\n",
      "Epoch [2/10] Batch 0/1875                       Loss D: 0.1128, loss G: 2.6949\n",
      "Epoch [3/10] Batch 0/1875                       Loss D: 0.0893, loss G: 3.7012\n",
      "Epoch [4/10] Batch 0/1875                       Loss D: 0.0764, loss G: 4.3006\n",
      "Epoch [5/10] Batch 0/1875                       Loss D: 0.0414, loss G: 4.3429\n",
      "Epoch [6/10] Batch 0/1875                       Loss D: 0.0770, loss G: 4.5209\n",
      "Epoch [7/10] Batch 0/1875                       Loss D: 0.0288, loss G: 4.3206\n",
      "Epoch [8/10] Batch 0/1875                       Loss D: 0.0157, loss G: 5.1158\n",
      "Epoch [9/10] Batch 0/1875                       Loss D: 0.0141, loss G: 5.0246\n"
     ]
    }
   ],
   "source": [
    "for epoch in range(num_epochs):\n",
    "    for batch_idx, (real, _) in enumerate(loader):\n",
    "        real = real.view(-1, 784).to(device)\n",
    "        batch_size = real.shape[0]\n",
    "        \n",
    "        # Train Discriminator max log(D(real)) + log(1 - D(g(z)))\n",
    "        noise = torch.randn((batch_size, z_dim)).to(device)\n",
    "        fake = gen(noise)\n",
    "        disc_real = disc(real).view(-1)\n",
    "        lossD_real = criterion(disc_real, torch.ones_like(disc_real))\n",
    "        disc_fake = disc(fake).view(-1)\n",
    "        lossD_fake = criterion(disc_fake, torch.zeros_like(disc_fake))\n",
    "        lossD = (lossD_real + lossD_fake) / 2\n",
    "        disc.zero_grad()\n",
    "        lossD.backward(retain_graph=True)\n",
    "        opt_disc.step()\n",
    "        \n",
    "        # Train Generator min log(1 - D(G(z))) <--> max log(D(G(z)))\n",
    "        output = disc(fake).view(-1)\n",
    "        lossG = criterion(output, torch.ones_like(output))\n",
    "        gen.zero_grad()\n",
    "        lossG.backward()\n",
    "        opt_gen.step()\n",
    "        \n",
    "        \n",
    "        if batch_idx == 0:\n",
    "            print(\n",
    "                f\"Epoch [{epoch}/{num_epochs}] Batch {batch_idx}/{len(loader)} \\\n",
    "                      Loss D: {lossD:.4f}, loss G: {lossG:.4f}\"\n",
    "            )\n",
    "\n",
    "            with torch.no_grad():\n",
    "                fake = gen(fixed_noise).reshape(-1, 1, 28, 28)\n",
    "                data = real.reshape(-1, 1, 28, 28)\n",
    "                img_grid_fake = torchvision.utils.make_grid(fake, normalize=True)\n",
    "                img_grid_real = torchvision.utils.make_grid(data, normalize=True)\n",
    "\n",
    "                writer_fake.add_image(\n",
    "                    \"Mnist Fake Images\", img_grid_fake, global_step=step\n",
    "                )\n",
    "                writer_real.add_image(\n",
    "                    \"Mnist Real Images\", img_grid_real, global_step=step\n",
    "                )\n",
    "                step += 1"
   ]
  }
 ],
 "metadata": {
  "kernelspec": {
   "display_name": "project1",
   "language": "python",
   "name": "project1"
  },
  "language_info": {
   "codemirror_mode": {
    "name": "ipython",
    "version": 3
   },
   "file_extension": ".py",
   "mimetype": "text/x-python",
   "name": "python",
   "nbconvert_exporter": "python",
   "pygments_lexer": "ipython3",
   "version": "3.9.13"
  }
 },
 "nbformat": 4,
 "nbformat_minor": 5
}
